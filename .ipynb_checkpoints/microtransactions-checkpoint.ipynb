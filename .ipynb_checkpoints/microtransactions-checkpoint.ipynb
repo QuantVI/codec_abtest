{
 "cells": [
  {
   "cell_type": "markdown",
   "metadata": {},
   "source": [
    "# Project: Hypothesis Testing for Microtransactions\n",
    "Brian is a Product Manager at FarmBurg, a company that makes a farming simulation social network game.  In the FarmBurg game, you can plow, plant, and harvest different crops.\n",
    "\n",
    "Today, you will be acting as Brian's data analyst for an A/B Test that he has been conducting."
   ]
  },
  {
   "cell_type": "markdown",
   "metadata": {},
   "source": [
    "## Part 1: Testing for Significant Difference"
   ]
  },
  {
   "cell_type": "markdown",
   "metadata": {},
   "source": [
    "Start by importing the following modules that you'll need for this project:\n",
    "- `pandas` as `pd`"
   ]
  },
  {
   "cell_type": "code",
   "execution_count": 2,
   "metadata": {
    "collapsed": true
   },
   "outputs": [],
   "source": [
    "import pandas as pd"
   ]
  },
  {
   "cell_type": "markdown",
   "metadata": {},
   "source": [
    "Brian tells you that he ran an A/B test with three different groups: A, B, and C.  You're kind of busy today, so you don't ask too many questions about the differences between A, B, and C.  Maybe they were shown three different versions of an ad.  Who cares?\n",
    "\n",
    "(HINT: you will care later)\n",
    "\n",
    "Brian gives you a CSV of results called `clicks.csv`.  It has the following columns:\n",
    "- `user_id`: a unique id for each visitor to the FarmBerg site\n",
    "- `ab_test_group`: either `A`, `B`, or `C` depending on which group the visitor was assigned to\n",
    "- `click_day`: only filled in *if* the user clicked on a link to purchase\n",
    "\n",
    "Load `clicks.csv` into the variable `df`."
   ]
  },
  {
   "cell_type": "code",
   "execution_count": 3,
   "metadata": {},
   "outputs": [],
   "source": [
    "df = pd.read_csv('clicks.csv')"
   ]
  },
  {
   "cell_type": "markdown",
   "metadata": {},
   "source": [
    "Define a new column called `is_purchase` which is `Purchase` if `click_day` is not `None` and `No Purchase` if `click_day` is `None`.  This will tell us if each visitor clicked on the Purchase link."
   ]
  },
  {
   "cell_type": "code",
   "execution_count": 36,
   "metadata": {},
   "outputs": [
    {
     "data": {
      "text/plain": [
       "0    No Purchase\n",
       "1    No Purchase\n",
       "2    No Purchase\n",
       "3    No Purchase\n",
       "4       Purchase\n",
       "Name: is_purchase, dtype: object"
      ]
     },
     "execution_count": 36,
     "metadata": {},
     "output_type": "execute_result"
    }
   ],
   "source": [
    "df['is_purchase'] = df.click_day.apply(lambda the_day: \n",
    "                                       'Purchase' if type(the_day) == str else 'No Purchase')\n",
    "# df.click_day.head()\n",
    "# type(df.click_day[4]) == str\n",
    "df.is_purchase.head()"
   ]
  },
  {
   "cell_type": "markdown",
   "metadata": {
    "collapsed": true
   },
   "source": [
    "We want to count the number of users who made a purchase from each group.  Use `groupby` to count the number of `Purchase` and `No Purchase` from each `group`.  Save your answer to the variable `purchase_counts`.\n",
    "\n",
    "**Hint**: Group by `group` and `is_purchase` and the function `count` on the column `user_id`."
   ]
  },
  {
   "cell_type": "code",
   "execution_count": 114,
   "metadata": {
    "collapsed": true
   },
   "outputs": [],
   "source": [
    "purchase_counts = df.groupby(['group','is_purchase']).user_id.count()\n",
    "#purchase_counts"
   ]
  },
  {
   "cell_type": "markdown",
   "metadata": {
    "collapsed": true
   },
   "source": [
    "This data is *categorical* and there are *more than 2* conditions, so we'll want to use a chi-squared test to see if there is a significant difference between the three conditions.\n",
    "\n",
    "Start by filling in the contingency table below with the correct values:\n",
    "```py\n",
    "contingency = [[groupA_purchases, groupA_not_purchases],\n",
    "               [groupB_purchases, groupB_not_purchases],\n",
    "               [groupC_purchases, groupC_not_purchases]]\n",
    "```"
   ]
  },
  {
   "cell_type": "code",
   "execution_count": 111,
   "metadata": {
    "collapsed": true
   },
   "outputs": [],
   "source": [
    "contingency = []\n",
    "#for pair in purchase_counts.index:\n",
    "#    print(pair, purchase_counts[pair[0],pair[1]])\n",
    "for g in ['A','B','C']:\n",
    "    pair = []\n",
    "    for h in ['Purchase','No Purchase']:\n",
    "        #print(purchase_counts[g,h])\n",
    "        pair.append(purchase_counts[g,h])\n",
    "    contingency.append(pair)\n",
    "#contingency\n",
    "        "
   ]
  },
  {
   "cell_type": "markdown",
   "metadata": {},
   "source": [
    "Now import the function `chi2_contingency` from `scipy.stats` and perform the chi-squared test.\n",
    "\n",
    "Recall that the *p-value* is the second output of `chi2_contingency`."
   ]
  },
  {
   "cell_type": "code",
   "execution_count": 112,
   "metadata": {
    "collapsed": true
   },
   "outputs": [],
   "source": [
    "from scipy.stats import chi2_contingency"
   ]
  },
  {
   "cell_type": "code",
   "execution_count": 118,
   "metadata": {},
   "outputs": [
    {
     "data": {
      "text/plain": [
       "(159.41952879874498, 2.4126213546684264e-35, 2, array([[  194.,  1472.],\n",
       "        [  194.,  1472.],\n",
       "        [  194.,  1472.]]))"
      ]
     },
     "execution_count": 118,
     "metadata": {},
     "output_type": "execute_result"
    }
   ],
   "source": [
    "chi2_contingency(observed=contingency)"
   ]
  },
  {
   "cell_type": "markdown",
   "metadata": {},
   "source": [
    "Great! It looks like a significantly greater portion of users from Group A made a purchase."
   ]
  },
  {
   "cell_type": "markdown",
   "metadata": {},
   "source": [
    "## Part 2: Testing for Exceeding a Goal\n",
    "\n",
    "Your day is a little less busy than you expected, so you decide to ask Brian about his test.\n",
    "\n",
    "**You**: Hey Brian! What was that test you were running anyway?\n",
    "\n",
    "**Brian**: It was awesome! We are trying to get users to purchase a small FarmBurg upgrade package.  It's called a microtransaction.  We're not sure how much to charge for it, so we tested three different price points: \\$0.99, \\$1.99, and \\$4.99.  It looks like significantly more people bought the upgrade package for \\$0.99, so I guess that's what we'll charge.\n",
    "\n",
    "**You**: Oh no! I should have asked you this before we did that chi-squared test.  I don't think that this was the right test at all.  It's true that more people wanted purchase the upgrade at \\$0.99; you probably expected that.  What we really want to know is if each price point allows us to make enough money that we can exceed some target goal.  Brian, how much do you think it cost to build this feature?\n",
    "\n",
    "**Brian**: Hmm.  I guess that we need to generate a minimum of $1000 per week in order to justify this project.\n",
    "\n",
    "**You**: We have some work to do!"
   ]
  },
  {
   "cell_type": "markdown",
   "metadata": {},
   "source": [
    "How many visitors came to the site this week?\n",
    "\n",
    "Hint: Look at the length of `df`."
   ]
  },
  {
   "cell_type": "code",
   "execution_count": 119,
   "metadata": {},
   "outputs": [
    {
     "data": {
      "text/plain": [
       "4998"
      ]
     },
     "execution_count": 119,
     "metadata": {},
     "output_type": "execute_result"
    }
   ],
   "source": [
    "len(df)"
   ]
  },
  {
   "cell_type": "markdown",
   "metadata": {},
   "source": [
    "Let's assume that this is how many visitors we generally get each week.  Given that, calculate the percent of visitors who would need to purchase the upgrade package at each price point (\\$0.99, \\$1.99, \\$4.99) in order to generate \\$1000 per week."
   ]
  },
  {
   "cell_type": "code",
   "execution_count": 201,
   "metadata": {},
   "outputs": [
    {
     "name": "stdout",
     "output_type": "stream",
     "text": [
      "At least 1011 visitors need to buy at the 0.99 price-point per week:\n",
      "\n",
      "20.2 percent of weekly traffic.\n"
     ]
    }
   ],
   "source": [
    "# Calculate the number of people who would need to purchase a $0.99 upgrade in order to generate $1000.\n",
    "# Then divide by the number of people who visit the site each week.\n",
    "# df[df['group']=='A'].count()\n",
    "target, price_a = 1000, 0.99\n",
    "weekly_visitors = len(df)\n",
    "req_purchase_a = target/price_a if type(target/price_a) == int else int(target/price_a)+1\n",
    "req_purch_a_ratio = round( (target/price_a)/weekly_visitors , 3)\n",
    "\n",
    "print(\"\"\"At least {} visitors need to buy at the {} price-point per week:\n",
    "\\n{} percent of weekly traffic.\"\"\".format(req_purchase_a,price_a,\n",
    "                                          round(100*req_purch_a_ratio,1)))"
   ]
  },
  {
   "cell_type": "code",
   "execution_count": 149,
   "metadata": {},
   "outputs": [
    {
     "name": "stdout",
     "output_type": "stream",
     "text": [
      "At least 503 visitors need to buy at the 1.99 price-point per week:\n",
      "\n",
      "10.1 percent of weekly traffic.\n"
     ]
    }
   ],
   "source": [
    "# Calculate the number of people who would need to purchase a $1.99 upgrade in order to generate $1000.\n",
    "# Then divide by the number of people who visit the site each week.\n",
    "target, price_b = 1000, 1.99\n",
    "weekly_visitors = len(df)\n",
    "req_purchase_b = target/price_b if type(target/price_b) == int else int(target/price_b)+1\n",
    "req_purch_b_ratio = round( (target/price_b)/weekly_visitors , 3)\n",
    "\n",
    "print(\"\"\"At least {} visitors need to buy at the {} price-point per week:\n",
    "\\n{} percent of weekly traffic.\"\"\".format(req_purchase_b,price_b,\n",
    "                                          round(100*req_purch_b_ratio,1)))"
   ]
  },
  {
   "cell_type": "code",
   "execution_count": 191,
   "metadata": {},
   "outputs": [
    {
     "name": "stdout",
     "output_type": "stream",
     "text": [
      "At least 201 visitors need to buy at the 4.99 price-point per week:\n",
      "\n",
      "4.0 percent of weekly traffic.\n"
     ]
    }
   ],
   "source": [
    "# Calculate the number of people who would need to purchase a $1.99 upgrade in order to generate $1000.\n",
    "# Then divide by the number of people who visit the site each week.\n",
    "target, price_c = 1000, 4.99\n",
    "weekly_visitors = len(df)\n",
    "req_purchase_c = target/price_c if type(target/price_c) == int else int(target/price_c)+1\n",
    "req_purch_c_ratio = round( (target/price_c)/weekly_visitors , 3)\n",
    "\n",
    "print(\"\"\"At least {} visitors need to buy at the {} price-point per week:\n",
    "\\n{} percent of weekly traffic.\"\"\".format(req_purchase_c,price_c,\n",
    "                                          round(100*req_purch_c_ratio,2)))"
   ]
  },
  {
   "cell_type": "markdown",
   "metadata": {},
   "source": [
    "Note that you need a smaller percentage of purchases for higher price points.\n",
    "\n",
    "Now, for each group, perform a binomial test using `binom_test` from `scipy.stats`.\n",
    "- `x` will be the number of purchases for that group\n",
    "- `n` will be the total number of visitors assigned to that group\n",
    "- `p` will be the target percent of purchases for that price point (calculated above)\n",
    "\n",
    "Recall that:\n",
    "- Group `A` is the \\$0.99 price point\n",
    "- Group `B` is the \\$1.99 price point\n",
    "- Group `C` is the \\$4.99 price point"
   ]
  },
  {
   "cell_type": "code",
   "execution_count": 200,
   "metadata": {
    "collapsed": true
   },
   "outputs": [],
   "source": [
    "# import the binomial test from scipy.stats here\n",
    "from scipy.stats import binom_test, binom\n",
    "# contingency"
   ]
  },
  {
   "cell_type": "code",
   "execution_count": 199,
   "metadata": {},
   "outputs": [
    {
     "name": "stdout",
     "output_type": "stream",
     "text": [
      "5.88914673243e-284\n",
      "0.901044811165\n"
     ]
    }
   ],
   "source": [
    "# Test group A here\n",
    "x1 = req_purchase_a #contingency[0][0]\n",
    "n1 = df[df['group']=='A'].count()['user_id']\n",
    "p1 = req_purch_a_ratio\n",
    "\n",
    "# binom_test(x1,n1,p1)\n",
    "print(binom_test(1011,1666,.202))\n",
    "print(binom_test(316,1666,.202, alternative='greater'))"
   ]
  },
  {
   "cell_type": "code",
   "execution_count": 197,
   "metadata": {},
   "outputs": [
    {
     "name": "stdout",
     "output_type": "stream",
     "text": [
      "1.01643708354e-113\n",
      "0.124257058237\n"
     ]
    }
   ],
   "source": [
    "# Test group B here\n",
    "x2 = req_purchase_b #contingency[1][0]\n",
    "n2 = df[df['group']=='B'].count()['user_id']\n",
    "p2 = req_purch_b_ratio\n",
    "\n",
    "# binom_test(x2,n2,p2)\n",
    "print(binom_test(503,1666,.101))\n",
    "print(binom_test(183,1666,.101, alternative='greater'))"
   ]
  },
  {
   "cell_type": "code",
   "execution_count": 194,
   "metadata": {},
   "outputs": [
    {
     "name": "stdout",
     "output_type": "stream",
     "text": [
      "1.23108795287e-42\n",
      "0.02663954666\n"
     ]
    }
   ],
   "source": [
    "# Test group C here\n",
    "x3 = req_purchase_c #contingency[2][0]\n",
    "n3 = df[df['group']=='C'].count()['user_id']\n",
    "p3 = req_purch_c_ratio\n",
    "\n",
    "#binom_test(x3,n3,p3)\n",
    "print(binom_test(201,1666,.04))\n",
    "print(binom_test(83,1666,.04, alternative='greater'))"
   ]
  },
  {
   "cell_type": "markdown",
   "metadata": {},
   "source": [
    "If any of the groups passed the binomial test with $p < 0.05$, then we can be confident that enough people will buy the upgrade package at that price point to justify the feature.\n",
    "\n",
    "Which price point should Brian go with?  Did this surprise you?"
   ]
  },
  {
   "cell_type": "markdown",
   "metadata": {},
   "source": [
    "## The above is a bit confusing. I will just \"think outloud\" on my conclusion:\n",
    "\n",
    "### Let's look at required weekly purchases to net $1000 for A, B, and C: 1011, 503, and 201 respectively.\n",
    "\n",
    "1. We calculated that given the 1666 users in each group; A, B, and C, would need transaction rate of .202, .101, and .04 to meet the $1000 requirement.\n",
    "\n",
    "2. We decided to assume people either buy/don't buy (i.e. binomial), and to test if these 3 distibutions fit the binomial or not.  \n",
    "\n",
    "#### scipy.stats.binom_test\n",
    "- Part i -  required weekly purchases for \\$1000 target\n",
    "    1. `binom_test(1011,1666,.202)`\n",
    "    2. `binom_test(503,1666,.101)`\n",
    "    3. `binom_test(201,1666,.04)`  \n",
    "    \n",
    "These all yeild a value close to 0. This means there is almost zero chance, of getting that many transactions from that population size, given the 20.2%, 10.1%, or 4% probability.\n",
    "\n",
    "##### binom_test conclusion (Part i): The observed rate of purchase in each group, does not support using the tested price-point for the Upgrade package. None of the groups in the test demonstrated a transacation rate higher enough to mean the $1000 target if visitors transacted binomially.\n",
    "- Part ii - observed weekly purchases\n",
    "    1. `binom_test(316,1666,.202)`\n",
    "    2. `binom_test(183,1666,.101)`\n",
    "    3. `binom_test(83,1666,.04)`  ---> about 0.0451 (two-tailed), 0.026 (one-tailed)  \n",
    "    \n",
    "Only Group C has a p-value less than 5%. Group C's results don't fit the binomial distribution with probability 4%. Aha!  \n",
    "    \n",
    "<br>    \n",
    "<font color='blue' size=4> \n",
    "I'm very surpised! Based on the results, Brian should go with the \\$4.99 price point.  \n",
    "This is because the 83 observed transactions are statistically significantly different from what we'd expect from a sample size of 1666 and a probability to buy (our required prob to net \\$1000) of 4%.  \n",
    "<br>\n",
    "Importantly, when testing the against alternative hypothesis that the probability is greater than 4%, we reject the null hypothesis. We conclude that the probability is indded greater than 4%, which means it's greater than what we require - at the \\$4.99 price point, to meet or exceed our weekly transaction goal of $1000.\n",
    "</font>\n",
    "\n"
   ]
  }
 ],
 "metadata": {
  "kernelspec": {
   "display_name": "Python 3",
   "language": "python",
   "name": "python3"
  },
  "language_info": {
   "codemirror_mode": {
    "name": "ipython",
    "version": 3
   },
   "file_extension": ".py",
   "mimetype": "text/x-python",
   "name": "python",
   "nbconvert_exporter": "python",
   "pygments_lexer": "ipython3",
   "version": "3.6.3"
  }
 },
 "nbformat": 4,
 "nbformat_minor": 2
}
